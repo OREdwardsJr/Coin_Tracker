{
 "cells": [
  {
   "cell_type": "code",
   "execution_count": null,
   "id": "989320a5",
   "metadata": {},
   "outputs": [],
   "source": [
    "#Import Modules\n",
    "import praw\n",
    "import requests\n",
    "from bs4 import BeautifulSoup\n",
    "import numpy as np\n",
    "import pandas as pd\n",
    "from praw.models import MoreComments \n",
    "from selenium import webdriver\n",
    "import time\n",
    "import copy\n"
   ]
  },
  {
   "cell_type": "code",
   "execution_count": null,
   "id": "7e07a9de",
   "metadata": {},
   "outputs": [],
   "source": [
    "#Parse historical Daily Discussions (1/3)\n",
    "\n",
    "#Load driver\n",
    "parent_url = 'https://www.reddit.com/r/CryptoCurrency/search/?q=daily%20discussion&restrict_sr=1&sr_nsfw='\n",
    "chrome_path = chrome_driver_path\n",
    "driver = webdriver.Chrome(chome_path)\n",
    "\n",
    "driver.get(parent_url)\n",
    "time.sleep(60) #This sleep is to allow you to manually scroll down the page and obtain links\n",
    "hist_soup = BeautifulSoup(driver.page_source, 'html.parser')\n",
    "\n",
    "driver.close()"
   ]
  },
  {
   "cell_type": "code",
   "execution_count": null,
   "id": "1b0a5113",
   "metadata": {},
   "outputs": [],
   "source": [
    "#Parse historical Daily Discussions (2/3)\n",
    "\n",
    "#Obtain Historical DD Links\n",
    "hist_container = hist_soup.find('div', class_='QBfRw7Rj8UkxybFpX-USO')\n",
    "hist_heads = hist_container.find_all('a', href=True)\n",
    "\n",
    "#Add Links to List\n",
    "url_list = []\n",
    "for head in hist_heads:\n",
    "    grab_href = head.get('href')\n",
    "    if 'http' in grab_href:\n",
    "        url_list.append(grab_href)"
   ]
  },
  {
   "cell_type": "code",
   "execution_count": null,
   "id": "12788fe0",
   "metadata": {},
   "outputs": [],
   "source": [
    "#Parse historical Daily Discussions (3/3)\n",
    "\n",
    "#Make copy of original list\n",
    "link_list = copy.deepcopy(url_list)\n",
    "\n",
    "for url in link_list:\n",
    "    if '/daily_discussion' not in url or 'megathread_december_15_2018/' in url:\n",
    "        link_list.remove(url)\n",
    "\n",
    "#Remove duplicates and sort\n",
    "link_list = list(set(link_list))\n",
    "link_list.sort()\n",
    "\n",
    "#Check retrieved links\n",
    "print(len(link_list))\n",
    "for url in link_list:\n",
    "    print(url)"
   ]
  },
  {
   "cell_type": "code",
   "execution_count": null,
   "id": "34a6396c",
   "metadata": {},
   "outputs": [],
   "source": [
    "'''\n",
    "In the above 3 sections you grabbed DDs from 04/15/21 to 01/09/22. Going forward, you will can obtain the\n",
    "new links with the #Obtain Daily Discussion Links sections below.\n",
    "'''"
   ]
  },
  {
   "cell_type": "code",
   "execution_count": null,
   "id": "5cf15188",
   "metadata": {},
   "outputs": [],
   "source": [
    "#Parse Daily Discussion Links \n",
    "'''\n",
    "This should be used to grab links of DDs not included in the historical grab. \n",
    "'''\n",
    "parent_url = 'https://www.reddit.com/r/CryptoCurrency/search/?q=daily%20discussion&restrict_sr=1&sr_nsfw='\n",
    "r = requests.get(parent_url)\n",
    "\n",
    "#Parse Daily Discussion link\n",
    "soup = BeautifulSoup(r.content, 'html.parser')\n",
    "container = soup.find('div', class_='QBfRw7Rj8UkxybFpX-USO')\n",
    "heads = container.find_all('a', href=True)\n",
    "\n",
    "#Add Links to List\n",
    "dd_list = []\n",
    "for head in heads:\n",
    "    grab_href = head.get('href')\n",
    "    if 'http' in grab_href:\n",
    "        dd_list.append(grab_href)"
   ]
  },
  {
   "cell_type": "code",
   "execution_count": null,
   "id": "0c5e75cd",
   "metadata": {},
   "outputs": [],
   "source": [
    "#Top Coins by Marketcap\n",
    "\n",
    "class Coin:\n",
    "    \n",
    "    def __init__(self, name, alias):\n",
    "        self.name = name\n",
    "        self.alias = alias\n",
    "\n",
    "#Define Coins\n",
    "coin0 = Coin('bitcoin', 'btc')\n",
    "coin1 = Coin('ethereum', 'eth')\n",
    "coin2 = Coin('solana', 'sol')\n",
    "coin3 = Coin('cardano', 'ada')\n",
    "coin4 = Coin('xrp', 'xrp'\n",
    "coin5 = Coin('terra', 'luna')\n",
    "coin6 = Coin('polkadot', 'dot')\n",
    "coin7 = Coin('avalanche', 'avax')\n",
    "coin8 = Coin('dogecoin', 'doge')\n",
    "coin9 = Coin('shiba', 'shib')\n",
    "coin_list = [coin0, coin1, coin2, coin3, coin4, coin5, coin6, coin7, coin8, coin9]\n"
   ]
  },
  {
   "cell_type": "code",
   "execution_count": null,
   "id": "da90c9e2",
   "metadata": {},
   "outputs": [],
   "source": [
    "#Scrape CoinMarketCap for daily price and top 10 coins\n",
    "\n",
    "#Via webdriver grab the data\n",
    "coin_url = 'https://coinmarketcap.com/'\n",
    "driver = webdriver.Chrome(chrome_driver_path)\n",
    "driver.get(coin_url)\n",
    "time.sleep(15) #Scroll down the page during this sleep\n",
    "coin_soup = BeautifulSoup(driver.page_source, 'html.parser')\n",
    "driver.close()\n",
    "coin_tag = coin_soup.find('div', class_ = 'h7vnx2-1 bFzXgL').find('tbody').find_all('tr') #All coins are in a <tr> tag\n",
    "#print(coin_tag[2].find_all('p').text)\n",
    "\n",
    "#Grab 10 coins"
   ]
  },
  {
   "cell_type": "code",
   "execution_count": null,
   "id": "38462319",
   "metadata": {},
   "outputs": [],
   "source": [
    "#Create main dataframe\n",
    "\n",
    "#Determine how many weeks were grabbed during hist_dd parse\n",
    "day_dict = {}\n",
    "count = 0\n",
    "\n",
    "#Create Day Dict\n",
    "for link in link_list:\n",
    "    grab = (link.split('_discussion_')[1]).split('_gmt')[0].replace('_', ' ').title()\n",
    "    day_dict[grab] = {} #Create dictionary within day_dict for {coin.name : count}\n",
    "    for coin in coin_list:  #Loop through coin_list to assign coin.name as a key \n",
    "        day_dict[grab][(coin.name).title()] = count"
   ]
  },
  {
   "cell_type": "code",
   "execution_count": null,
   "id": "9001e09d",
   "metadata": {},
   "outputs": [],
   "source": [
    "#Top Coins by Marketcap\n",
    "\n",
    "class Coin:\n",
    "    \n",
    "    def __init__(self, name, alias):\n",
    "        self.name = name\n",
    "        self.alias = alias\n",
    "\n",
    "#Define Coins\n",
    "coin0 = Coin('bitcoin', 'btc')\n",
    "coin1 = Coin('ethereum', 'eth')\n",
    "coin2 = Coin('solana', 'sol')\n",
    "coin3 = Coin('cardano', 'ada')\n",
    "coin4 = Coin('xrp', 'xrp'\n",
    "coin5 = Coin('terra', 'luna')\n",
    "coin6 = Coin('polkadot', 'dot')\n",
    "coin7 = Coin('avalanche', 'avax')\n",
    "coin8 = Coin('dogecoin', 'doge')\n",
    "coin9 = Coin('shiba', 'shib')\n",
    "coin_list = [coin0, coin1, coin2, coin3, coin4, coin5, coin6, coin7, coin8, coin9]\n"
   ]
  },
  {
   "cell_type": "code",
   "execution_count": null,
   "id": "053abffc",
   "metadata": {},
   "outputs": [],
   "source": [
    "#Connect PRAW Agent\n",
    "reddit_read_only = praw.Reddit(client_id=\"7x_7QVnkR6nS4tvF7nC9_Q\",\n",
    "                    client_secret=\"YyzTlh9gNBliHn2QQG8iMBG5WBkCTw\",\n",
    "                    user_agent=\"Lando Scraping\") #Hide sensitive information if you place this on github"
   ]
  },
  {
   "cell_type": "code",
   "execution_count": null,
   "id": "20852163",
   "metadata": {},
   "outputs": [],
   "source": [
    "#Scrape Comments from Daily Discussion Links\n",
    "'''\n",
    "Reddit utilizes JS to load more comments as you scroll down. Let's utilize PRAW to scrape comments\n",
    "'''\n",
    "i = 0\n",
    "for grab in day_dict:\n",
    "    submission = reddit_read_only.submission(url = link_list[i])\n",
    "    for coin in coin_list:\n",
    "        count = 0\n",
    "        for comment in submission.comments:\n",
    "            if type(comment) == MoreComments:\n",
    "                submission.comments.replace_more(limit = 0)\n",
    "                for comment in submission.comments.list():\n",
    "                    if coin.name in comment.body.lower() or coin.alias in comment.body.lower():\n",
    "                        count+=1\n",
    "            elif coin.name in comment.body.lower() or coin.alias in comment.body.lower():\n",
    "                count+=1\n",
    "        day_dict[grab][(coin.name).title()] = count                \n",
    "    i+=1                "
   ]
  },
  {
   "cell_type": "code",
   "execution_count": null,
   "id": "46e717cf",
   "metadata": {},
   "outputs": [],
   "source": [
    "#Create 'Total' row in day_dict\n",
    "for grab in day_dict:\n",
    "    day_dict[grab]['Total'] = sum(day_dict[grab].values())"
   ]
  },
  {
   "cell_type": "code",
   "execution_count": null,
   "id": "ac365c25",
   "metadata": {},
   "outputs": [],
   "source": [
    "#--------------- Create save copy of day_dict ---------------#\n",
    "day_dict_save = copy.deepcopy(day_dict)\n",
    "\n",
    "#Restart day_dict\n",
    "'''day_dict = copy.deepcopy(day_dict_save)'''"
   ]
  },
  {
   "cell_type": "code",
   "execution_count": null,
   "id": "91744952",
   "metadata": {},
   "outputs": [],
   "source": [
    "#Create averages in day_dict\n",
    "for grab in day_dict:\n",
    "    for coin in coin_list:\n",
    "        day_dict[grab][str((coin.name).title()) + ' Avg'] = int(day_dict[grab][(coin.name).title()])/day_dict[grab]['Total']"
   ]
  },
  {
   "cell_type": "code",
   "execution_count": null,
   "id": "4debe942",
   "metadata": {},
   "outputs": [],
   "source": [
    "#Create Dataframe\n",
    "\n",
    "pd.options.display.float_format = \"{:,.2f}\".format #Set float\n",
    "\n",
    "df = pd.DataFrame(day_dict)\n",
    "df.sort_index(axis=0,ascending=True, inplace = True) #sort\n"
   ]
  },
  {
   "cell_type": "code",
   "execution_count": null,
   "id": "a187ad7c",
   "metadata": {},
   "outputs": [],
   "source": [
    "#Reindex df\n",
    "df = df.reindex([df.index[0], df.index[1], df.index[2], df.index[3], df.index[4], df.index[5],\n",
    "           df.index[6], df.index[7], df.index[8], df.index[9], df.index[10], df.index[11], \n",
    "           df.index[12],df.index[13], df.index[14], df.index[15], df.index[16], df.index[17],\n",
    "           df.index[19], df.index[20], df.index[18]], axis = 0)\n",
    "\n",
    "'''\n",
    "If you ever change the amount of coins you're tracking then this will need to change\n",
    "'''"
   ]
  },
  {
   "cell_type": "code",
   "execution_count": null,
   "id": "e86f6169",
   "metadata": {},
   "outputs": [],
   "source": [
    "#Save dataframe to excel\n",
    "df.to_excel(save_path, sheet_name = 'Daily Tracker')"
   ]
  },
  {
   "cell_type": "code",
   "execution_count": null,
   "id": "c356617e",
   "metadata": {},
   "outputs": [],
   "source": [
    "#Make a save and test copy of df for practice purpose\n",
    "#df_test = copy.deepcopy(df)\n",
    "df_save = copy.deepcopy(df)"
   ]
  },
  {
   "cell_type": "code",
   "execution_count": null,
   "id": "6d2f5e48",
   "metadata": {},
   "outputs": [],
   "source": [
    "df_summary = {}\n",
    "#Create df_summary\n",
    "for col in df.columns:\n",
    "    df_summary[col.split(' ')[0] + ' ' + col.split(' ')[2]] = {}\n",
    "for month in df_summary.keys():\n",
    "    df_summary[month] = [df[col] for col in df.columns if month in (col.split(' ')[0] + ' ' + col.split(' ')[2])]\n",
    "    df_summary[month] = pd.DataFrame(df_summary[month])"
   ]
  },
  {
   "cell_type": "code",
   "execution_count": null,
   "id": "19fcab1c",
   "metadata": {},
   "outputs": [],
   "source": [
    "df_summary['April 2021']\n",
    "#df"
   ]
  },
  {
   "cell_type": "code",
   "execution_count": null,
   "id": "d14a94e1",
   "metadata": {},
   "outputs": [],
   "source": [
    "for key in df_summary.keys():\n",
    "    with pd.ExcelWriter(save_path,engine=\"openpyxl\", mode = 'a') as writer:  \n",
    "        df_summary[key].to_excel(writer, sheet_name = key)"
   ]
  },
  {
   "cell_type": "code",
   "execution_count": null,
   "id": "cb5ccbd2",
   "metadata": {},
   "outputs": [],
   "source": [
    "#Create top 10\n",
    "#Within coin 0 = Rank, 1 = Name, 2 = Alias, 3 = Price\n",
    "\n",
    "top_10_list = [(),(),(),(),(),(),(),(),(),()]\n",
    "skip_list = ['usd coin', 'tether', 'bnb', 'binance usd', 'Crypto.com Coin']\n",
    "coin_count = 0\n",
    "for coin in coin_tag:\n",
    "    if (coin.find_all('p')[1].text.lower()) not in skip_list:\n",
    "        if coin_count <= 9:\n",
    "            top_10_list[coin_count] = (coin.find_all('p')[1].text,coin.find_all('p')[2].text,coin.find_all('p')[3].text.split('$')[2]) \n",
    "            coin_count+=1\n",
    "        else:\n",
    "            break"
   ]
  }
 ],
 "metadata": {
  "kernelspec": {
   "display_name": "Python 3",
   "language": "python",
   "name": "python3"
  },
  "language_info": {
   "codemirror_mode": {
    "name": "ipython",
    "version": 3
   },
   "file_extension": ".py",
   "mimetype": "text/x-python",
   "name": "python",
   "nbconvert_exporter": "python",
   "pygments_lexer": "ipython3",
   "version": "3.8.8"
  }
 },
 "nbformat": 4,
 "nbformat_minor": 5
}
